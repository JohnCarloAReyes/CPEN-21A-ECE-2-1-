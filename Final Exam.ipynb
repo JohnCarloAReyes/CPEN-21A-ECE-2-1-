{
  "nbformat": 4,
  "nbformat_minor": 0,
  "metadata": {
    "colab": {
      "name": "Untitled7.ipynb",
      "provenance": [],
      "authorship_tag": "ABX9TyNi9/5+gv5/V2s4rV8sqJJn",
      "include_colab_link": true
    },
    "kernelspec": {
      "name": "python3",
      "display_name": "Python 3"
    },
    "language_info": {
      "name": "python"
    }
  },
  "cells": [
    {
      "cell_type": "markdown",
      "metadata": {
        "id": "view-in-github",
        "colab_type": "text"
      },
      "source": [
        "<a href=\"https://colab.research.google.com/github/JohnCarloAReyes/CPEN-21A-ECE-2-1-/blob/main/Final%20Exam.ipynb\" target=\"_parent\"><img src=\"https://colab.research.google.com/assets/colab-badge.svg\" alt=\"Open In Colab\"/></a>"
      ]
    },
    {
      "cell_type": "markdown",
      "source": [
        "#Problem Statement #1"
      ],
      "metadata": {
        "id": "T5xzqJXaVdZn"
      }
    },
    {
      "cell_type": "code",
      "source": [
        "summation = 0\n",
        "index = 0\n",
        "temp = 0\n",
        "\n",
        "while index < 10:\n",
        "    print(\"[\" + str(index + 1) + \"]Enter a number less than 5: \")\n",
        "    temp = input()\n",
        "\n",
        "    if int(temp) < 5:\n",
        "        summation += int(temp)\n",
        "        index += 1\n",
        "\n",
        "print(\"Summation: \" + str(summation))"
      ],
      "metadata": {
        "id": "SHAEJaQ4VgCQ"
      },
      "execution_count": null,
      "outputs": []
    },
    {
      "cell_type": "markdown",
      "source": [
        "#Problem Statement #2"
      ],
      "metadata": {
        "id": "R0PVJDSAVibO"
      }
    },
    {
      "cell_type": "code",
      "source": [
        "num=1;\n",
        "data={};\n",
        "while(num <=5):\n",
        "  K = str(num);\n",
        "  data[num] = input(\"Enter Number:\")\n",
        "  print(\"Value for Number \"+ K +\" is \"+ data[num])\n",
        "  num+=1\n",
        "  if(num==6):\n",
        "    sum=float(data[1])+float(data[5])\n",
        "print(\"The sum of the first and last number is: \" + str(summation))"
      ],
      "metadata": {
        "id": "FbofJIu7Vl7N"
      },
      "execution_count": null,
      "outputs": []
    },
    {
      "cell_type": "markdown",
      "source": [
        "#Problem Statement #3"
      ],
      "metadata": {
        "id": "WrrJRfTJVw6C"
      }
    },
    {
      "cell_type": "code",
      "source": [
        "grade=float(input(\"Enter your Grade:\"))\n",
        "if grade >=90: print(\"A\")\n",
        "else:\n",
        "  if grade >=80: print(\"B\")\n",
        "  elif grade >=70: print(\"C\")\n",
        "  elif grade >=60: print(\"D\")\n",
        "  else: print(\"F\")"
      ],
      "metadata": {
        "id": "nLavg03DV0ov"
      },
      "execution_count": null,
      "outputs": []
    }
  ]
}