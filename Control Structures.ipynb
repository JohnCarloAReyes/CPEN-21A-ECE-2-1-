{
  "nbformat": 4,
  "nbformat_minor": 0,
  "metadata": {
    "colab": {
      "name": "Untitled4.ipynb",
      "provenance": [],
      "authorship_tag": "ABX9TyP7DYy0qw4Lqb93eedkniKV",
      "include_colab_link": true
    },
    "kernelspec": {
      "name": "python3",
      "display_name": "Python 3"
    },
    "language_info": {
      "name": "python"
    }
  },
  "cells": [
    {
      "cell_type": "markdown",
      "metadata": {
        "id": "view-in-github",
        "colab_type": "text"
      },
      "source": [
        "<a href=\"https://colab.research.google.com/github/JohnCarloAReyes/CPEN-21A-ECE-2-1-/blob/main/Control%20Structures.ipynb\" target=\"_parent\"><img src=\"https://colab.research.google.com/assets/colab-badge.svg\" alt=\"Open In Colab\"/></a>"
      ]
    },
    {
      "cell_type": "markdown",
      "metadata": {
        "id": "th589dcGrFOp"
      },
      "source": [
        "#If Statement"
      ]
    },
    {
      "cell_type": "code",
      "metadata": {
        "colab": {
          "base_uri": "https://localhost:8080/"
        },
        "id": "BjAHGmPzrHnl",
        "outputId": "ad406fe3-8526-4a5a-c919-22d88d05bec2"
      },
      "source": [
        "a=12\n",
        "b=100\n",
        "\n",
        "if b>a:\n",
        " print(\"b is greater than a\")"
      ],
      "execution_count": 26,
      "outputs": [
        {
          "output_type": "stream",
          "name": "stdout",
          "text": [
            "b is greater than a\n"
          ]
        }
      ]
    },
    {
      "cell_type": "markdown",
      "metadata": {
        "id": "nc-QdriTrRIr"
      },
      "source": [
        "#Elif Statement"
      ]
    },
    {
      "cell_type": "code",
      "metadata": {
        "colab": {
          "base_uri": "https://localhost:8080/"
        },
        "id": "YfKdliSgrUpD",
        "outputId": "2c09e5c3-1306-4698-b027-902228d3ff48"
      },
      "source": [
        "a=12\n",
        "b=13\n",
        "\n",
        "if b>a:\n",
        " print(\"b is greater than a\")\n",
        "\n",
        "elif b==a:\n",
        " print(\"b is equal to a\")"
      ],
      "execution_count": 24,
      "outputs": [
        {
          "output_type": "stream",
          "name": "stdout",
          "text": [
            "b is greater than a\n"
          ]
        }
      ]
    },
    {
      "cell_type": "markdown",
      "metadata": {
        "id": "95h8PqB7rlf5"
      },
      "source": [
        "#Else Statement"
      ]
    },
    {
      "cell_type": "code",
      "metadata": {
        "colab": {
          "base_uri": "https://localhost:8080/"
        },
        "id": "8SNibU1lrogM",
        "outputId": "13395c56-306d-4a1d-9930-a3cad5a396e3"
      },
      "source": [
        "a=30\n",
        "b=30\n",
        "\n",
        "if b>a:\n",
        " print(\"b is greater than a\")\n",
        "\n",
        "elif b==a:\n",
        " print(\"b is equal to a\")\n",
        "\n",
        "else:\n",
        " print(\"a is equal to b\")"
      ],
      "execution_count": 22,
      "outputs": [
        {
          "output_type": "stream",
          "name": "stdout",
          "text": [
            "b is equal to a\n"
          ]
        }
      ]
    },
    {
      "cell_type": "markdown",
      "metadata": {
        "id": "xk3tluHhr4bb"
      },
      "source": [
        "#Short Hand If Statement"
      ]
    },
    {
      "cell_type": "code",
      "metadata": {
        "colab": {
          "base_uri": "https://localhost:8080/"
        },
        "id": "7NiPq5GUr7rt",
        "outputId": "cb3c945e-531a-4a19-e390-6c73159c7aa7"
      },
      "source": [
        "a=12\n",
        "b=6\n",
        "\n",
        "if a>b:\n",
        " print(\"a is greater than b\")"
      ],
      "execution_count": 19,
      "outputs": [
        {
          "output_type": "stream",
          "name": "stdout",
          "text": [
            "a is greater than b\n"
          ]
        }
      ]
    },
    {
      "cell_type": "markdown",
      "metadata": {
        "id": "Hf7FeWzusMpJ"
      },
      "source": [
        "#Short Hand If Else Statement"
      ]
    },
    {
      "cell_type": "code",
      "metadata": {
        "colab": {
          "base_uri": "https://localhost:8080/"
        },
        "id": "mpxFejn9sQKT",
        "outputId": "520af83c-ad7e-4bb1-cebe-94ead59d7e99"
      },
      "source": [
        "a=7\n",
        "b=14\n",
        "print(\"a is greater than b\")if a>b else print(\"b is greater than a\")"
      ],
      "execution_count": 17,
      "outputs": [
        {
          "output_type": "stream",
          "name": "stdout",
          "text": [
            "b is greater than a\n"
          ]
        }
      ]
    },
    {
      "cell_type": "markdown",
      "metadata": {
        "id": "9daQF50_scuR"
      },
      "source": [
        "#And Logical Condition"
      ]
    },
    {
      "cell_type": "code",
      "metadata": {
        "colab": {
          "base_uri": "https://localhost:8080/"
        },
        "id": "FYDc2azSsjTj",
        "outputId": "3f094416-3f10-4e45-f1ff-e12be24558b2"
      },
      "source": [
        "a=200\n",
        "b=300\n",
        "c=500\n",
        "\n",
        "if a>b or c>a:\n",
        " print(\"both conditions are true\")\n",
        "\n",
        "else:\n",
        " print(\"evaluated as false\")"
      ],
      "execution_count": 14,
      "outputs": [
        {
          "output_type": "stream",
          "name": "stdout",
          "text": [
            "both conditions are true\n"
          ]
        }
      ]
    },
    {
      "cell_type": "markdown",
      "metadata": {
        "id": "g8T48TlytBW4"
      },
      "source": [
        "#Or Logical Condition"
      ]
    },
    {
      "cell_type": "code",
      "metadata": {
        "colab": {
          "base_uri": "https://localhost:8080/"
        },
        "id": "y0LkjqratExo",
        "outputId": "70fdffe9-bd5f-4e45-a8f3-904f2c01cc8b"
      },
      "source": [
        "a=200\n",
        "b=300\n",
        "c=500\n",
        "\n",
        "if a>b or c>a:\n",
        " print(\"evaluated as true\")\n",
        "\n",
        "else:\n",
        " print(\"evaluated as false\")"
      ],
      "execution_count": 13,
      "outputs": [
        {
          "output_type": "stream",
          "name": "stdout",
          "text": [
            "evaluated as true\n"
          ]
        }
      ]
    },
    {
      "cell_type": "markdown",
      "metadata": {
        "id": "SOHFTk6_tb3N"
      },
      "source": [
        "#Nested If Else Statement"
      ]
    },
    {
      "cell_type": "code",
      "metadata": {
        "colab": {
          "base_uri": "https://localhost:8080/"
        },
        "id": "eUQAs_ARtfts",
        "outputId": "597ed3ab-651e-4a47-d473-eec17bba96b5"
      },
      "source": [
        "x=20\n",
        "\n",
        "if x>10:\n",
        " print(\"above 10\")\n",
        "\n",
        " if x>20:\n",
        "  print(\"above 20\")\n",
        "\n",
        " else:\n",
        "  print(\"above 10 but not above 20\")\n",
        "\n",
        "else:\n",
        " print(\"not above 10\")"
      ],
      "execution_count": 12,
      "outputs": [
        {
          "output_type": "stream",
          "name": "stdout",
          "text": [
            "above 10\n",
            "above 10 but not above 20\n"
          ]
        }
      ]
    },
    {
      "cell_type": "markdown",
      "metadata": {
        "id": "bhD-_oIct2ji"
      },
      "source": [
        "#Example 1\n",
        "\n",
        "\n"
      ]
    },
    {
      "cell_type": "markdown",
      "metadata": {
        "id": "ZaHCd_rSt_Sc"
      },
      "source": [
        "#The qualifying age to vote"
      ]
    },
    {
      "cell_type": "code",
      "metadata": {
        "colab": {
          "base_uri": "https://localhost:8080/"
        },
        "id": "tMvoTgTFuDdI",
        "outputId": "8aadb75d-b9ce-45e5-ec44-898c234fc02e"
      },
      "source": [
        "age=int(input(\"Enter your age:\"))\n",
        "\n",
        "if age>=18:\n",
        " print(\"You are qualified to vote\")\n",
        "\n",
        "else:\n",
        " print(\"You are not qualified to vote\")"
      ],
      "execution_count": 6,
      "outputs": [
        {
          "output_type": "stream",
          "name": "stdout",
          "text": [
            "Enter your age:17\n",
            "You are not qualified to vote\n"
          ]
        }
      ]
    },
    {
      "cell_type": "markdown",
      "metadata": {
        "id": "lfZplbRiu4Ii"
      },
      "source": [
        "#Example 2"
      ]
    },
    {
      "cell_type": "code",
      "metadata": {
        "colab": {
          "base_uri": "https://localhost:8080/"
        },
        "id": "yhOrQHlXxlT5",
        "outputId": "cd285d61-31f0-4c2e-d3e4-7c5eed307190"
      },
      "source": [
        "num=int(input(\"Enter the number:\"))\n",
        "\n",
        "if num==0:\n",
        " print(\"Zero\")\n",
        "\n",
        "elif num>0:\n",
        "  print(\"Positive\")\n",
        "\n",
        "else:\n",
        " print(\"Negative\")"
      ],
      "execution_count": 27,
      "outputs": [
        {
          "output_type": "stream",
          "name": "stdout",
          "text": [
            "Enter the number:3\n",
            "Positive\n"
          ]
        }
      ]
    }
  ]
}