{
  "nbformat": 4,
  "nbformat_minor": 0,
  "metadata": {
    "colab": {
      "name": "Untitled0.ipynb",
      "provenance": [],
      "authorship_tag": "ABX9TyOV/2WU3NKMajeIthj7Pgk5",
      "include_colab_link": true
    },
    "kernelspec": {
      "name": "python3",
      "display_name": "Python 3"
    },
    "language_info": {
      "name": "python"
    }
  },
  "cells": [
    {
      "cell_type": "markdown",
      "metadata": {
        "id": "view-in-github",
        "colab_type": "text"
      },
      "source": [
        "<a href=\"https://colab.research.google.com/github/JohnCarloAReyes/CPEN-21A-ECE-2-1-/blob/main/Lab1.ipynb\" target=\"_parent\"><img src=\"https://colab.research.google.com/assets/colab-badge.svg\" alt=\"Open In Colab\"/></a>"
      ]
    },
    {
      "cell_type": "code",
      "metadata": {
        "colab": {
          "base_uri": "https://localhost:8080/"
        },
        "id": "l3O9G9pNuIaS",
        "outputId": "a51a661a-b69c-42a2-979e-18490d5ca9f3"
      },
      "source": [
        "j=(\"Welcome to Python Programming\")\n",
        "c=(\"Name: John Carlo A. Reyes\")\n",
        "a=(\"Address: #020 Brgy. San Jose, Calamba City, Laguna\")\n",
        "r=(\"Age: 19\")\n",
        "print (j)\n",
        "print (c)\n",
        "print (a)\n",
        "print (r)\n"
      ],
      "execution_count": 7,
      "outputs": [
        {
          "output_type": "stream",
          "name": "stdout",
          "text": [
            "Welcome to Python Programming\n",
            "Name: John Carlo A. Reyes\n",
            "Address: #020 Brgy. San Jose, Calamba City, Laguna\n",
            "Age: 19\n"
          ]
        }
      ]
    }
  ]
}