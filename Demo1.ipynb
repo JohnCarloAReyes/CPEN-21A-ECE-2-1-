{
  "nbformat": 4,
  "nbformat_minor": 0,
  "metadata": {
    "colab": {
      "name": "Untitled8.ipynb",
      "provenance": [],
      "authorship_tag": "ABX9TyN+Xq8aB7mWUisrPI5+JU8J",
      "include_colab_link": true
    },
    "kernelspec": {
      "name": "python3",
      "display_name": "Python 3"
    },
    "language_info": {
      "name": "python"
    }
  },
  "cells": [
    {
      "cell_type": "markdown",
      "metadata": {
        "id": "view-in-github",
        "colab_type": "text"
      },
      "source": [
        "<a href=\"https://colab.research.google.com/github/JohnCarloAReyes/CPEN-21A-ECE-2-1-/blob/main/Demo1.ipynb\" target=\"_parent\"><img src=\"https://colab.research.google.com/assets/colab-badge.svg\" alt=\"Open In Colab\"/></a>"
      ]
    },
    {
      "cell_type": "code",
      "execution_count": null,
      "metadata": {
        "id": "NhS-25LdmFnn"
      },
      "outputs": [],
      "source": [
        ""
      ]
    },
    {
      "cell_type": "markdown",
      "source": [
        "#Intro to Python Programming"
      ],
      "metadata": {
        "id": "EAkxEF4KmdqS"
      }
    },
    {
      "cell_type": "code",
      "source": [
        "#Phyton Identification\n",
        "if 5>2:\n",
        "  print(\"Five is greater than two\")"
      ],
      "metadata": {
        "colab": {
          "base_uri": "https://localhost:8080/"
        },
        "id": "fxZrMRE2mjQI",
        "outputId": "7157a0d0-3792-471e-e7ea-4c488fb0f312"
      },
      "execution_count": 2,
      "outputs": [
        {
          "output_type": "stream",
          "name": "stdout",
          "text": [
            "Five is greater than two\n"
          ]
        }
      ]
    },
    {
      "cell_type": "markdown",
      "source": [
        "#Phyton Variable"
      ],
      "metadata": {
        "id": "lOOM0d68m5N6"
      }
    },
    {
      "cell_type": "code",
      "source": [
        "x=1\n",
        "a, b=0, 1\n",
        "a,b,c= \"Zero\",\"One\",\"Two\"\n",
        "print(x,a,b,c)"
      ],
      "metadata": {
        "colab": {
          "base_uri": "https://localhost:8080/"
        },
        "id": "CKQA3tYUm9BS",
        "outputId": "7800c412-26fc-405d-abe9-458fd33e04e1"
      },
      "execution_count": 4,
      "outputs": [
        {
          "output_type": "stream",
          "name": "stdout",
          "text": [
            "1 Zero One Two\n"
          ]
        }
      ]
    },
    {
      "cell_type": "code",
      "source": [
        "d= \"Sally\" #This is a string\n",
        "D= \"Ana\"\n",
        "e= \"John\"\n",
        "print (d,e,D)"
      ],
      "metadata": {
        "colab": {
          "base_uri": "https://localhost:8080/"
        },
        "id": "to39kdqFnbIX",
        "outputId": "eddb8f5a-8684-44fe-8efa-2dd58d0e6a9b"
      },
      "execution_count": 5,
      "outputs": [
        {
          "output_type": "stream",
          "name": "stdout",
          "text": [
            "Sally John Ana\n"
          ]
        }
      ]
    },
    {
      "cell_type": "code",
      "source": [
        "print(type(d)) #This is a Type Function\n",
        "print(type(x))"
      ],
      "metadata": {
        "colab": {
          "base_uri": "https://localhost:8080/"
        },
        "id": "F0KTI2HInyPX",
        "outputId": "40feda39-aea8-49ba-d04b-be5b0fca86e2"
      },
      "execution_count": 7,
      "outputs": [
        {
          "output_type": "stream",
          "name": "stdout",
          "text": [
            "<class 'str'>\n",
            "<class 'int'>\n"
          ]
        }
      ]
    },
    {
      "cell_type": "markdown",
      "source": [
        "#Casting"
      ],
      "metadata": {
        "id": "PjgMYEVdoMh0"
      }
    },
    {
      "cell_type": "code",
      "source": [
        "f= float(4)\n",
        "print(f)\n",
        "g= int(5)\n",
        "print(g)"
      ],
      "metadata": {
        "colab": {
          "base_uri": "https://localhost:8080/"
        },
        "id": "rpc_8qlhopy0",
        "outputId": "4c866abb-ab89-4b47-b024-5a5b9683d481"
      },
      "execution_count": 13,
      "outputs": [
        {
          "output_type": "stream",
          "name": "stdout",
          "text": [
            "4.0\n",
            "5\n"
          ]
        }
      ]
    },
    {
      "cell_type": "markdown",
      "source": [
        "#Multiple Variables With One Value"
      ],
      "metadata": {
        "id": "UXmV9L4fo1jc"
      }
    },
    {
      "cell_type": "code",
      "source": [
        "a= y= s= \"four\"\n",
        "print(a, y, s)"
      ],
      "metadata": {
        "colab": {
          "base_uri": "https://localhost:8080/"
        },
        "id": "CUCdYIB5pAPj",
        "outputId": "1f884282-0ba3-4ecd-96f8-dfb3b9ef10d5"
      },
      "execution_count": 14,
      "outputs": [
        {
          "output_type": "stream",
          "name": "stdout",
          "text": [
            "four four four\n"
          ]
        }
      ]
    },
    {
      "cell_type": "code",
      "source": [
        "x= \"Enjoying\" \n",
        "print(\"Python Programming Is \"\"\" +x)"
      ],
      "metadata": {
        "colab": {
          "base_uri": "https://localhost:8080/"
        },
        "id": "J2MfsG-6qgx5",
        "outputId": "ada253a5-a182-43bd-ae43-c236d24ca713"
      },
      "execution_count": 21,
      "outputs": [
        {
          "output_type": "stream",
          "name": "stdout",
          "text": [
            "Python Programming Is Enjoying\n"
          ]
        }
      ]
    },
    {
      "cell_type": "markdown",
      "source": [
        "#Operations in Phyton"
      ],
      "metadata": {
        "id": "kk0fLMAmrBpg"
      }
    },
    {
      "cell_type": "code",
      "source": [
        "x= 5\n",
        "y= 7\n",
        "x+=y #This is the same as x= x+y\n",
        "print(x+y)\n",
        "print(x*y)\n",
        "print(x)"
      ],
      "metadata": {
        "colab": {
          "base_uri": "https://localhost:8080/"
        },
        "id": "6pB2WxD_rIgc",
        "outputId": "161f49eb-aa54-47fa-bf60-9ed4349bd4e5"
      },
      "execution_count": 22,
      "outputs": [
        {
          "output_type": "stream",
          "name": "stdout",
          "text": [
            "19\n",
            "84\n",
            "12\n"
          ]
        }
      ]
    },
    {
      "cell_type": "code",
      "source": [
        "x=5\n",
        "y=7\n",
        "not(x>y or y==x)"
      ],
      "metadata": {
        "colab": {
          "base_uri": "https://localhost:8080/"
        },
        "id": "Ew9qKjhcrfA4",
        "outputId": "b2dbf8ce-2808-4739-b992-0b559fbcb21e"
      },
      "execution_count": 23,
      "outputs": [
        {
          "output_type": "execute_result",
          "data": {
            "text/plain": [
              "True"
            ]
          },
          "metadata": {},
          "execution_count": 23
        }
      ]
    },
    {
      "cell_type": "code",
      "source": [
        "x is y"
      ],
      "metadata": {
        "colab": {
          "base_uri": "https://localhost:8080/"
        },
        "id": "s5SLTw60ropX",
        "outputId": "a889265c-c049-40bf-e0bb-92fcf459e40e"
      },
      "execution_count": 24,
      "outputs": [
        {
          "output_type": "execute_result",
          "data": {
            "text/plain": [
              "False"
            ]
          },
          "metadata": {},
          "execution_count": 24
        }
      ]
    },
    {
      "cell_type": "code",
      "source": [
        "x is not y"
      ],
      "metadata": {
        "colab": {
          "base_uri": "https://localhost:8080/"
        },
        "id": "qYg9GGkbrrMH",
        "outputId": "f51e48c8-8b0f-46aa-cbde-8e382d95ee7a"
      },
      "execution_count": 25,
      "outputs": [
        {
          "output_type": "execute_result",
          "data": {
            "text/plain": [
              "True"
            ]
          },
          "metadata": {},
          "execution_count": 25
        }
      ]
    }
  ]
}