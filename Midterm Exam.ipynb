{
  "nbformat": 4,
  "nbformat_minor": 0,
  "metadata": {
    "colab": {
      "name": "Untitled3.ipynb",
      "provenance": [],
      "authorship_tag": "ABX9TyM+1DEqOB2Rx2TX9gWEvYxU",
      "include_colab_link": true
    },
    "kernelspec": {
      "name": "python3",
      "display_name": "Python 3"
    },
    "language_info": {
      "name": "python"
    }
  },
  "cells": [
    {
      "cell_type": "markdown",
      "metadata": {
        "id": "view-in-github",
        "colab_type": "text"
      },
      "source": [
        "<a href=\"https://colab.research.google.com/github/JohnCarloAReyes/CPEN-21A-ECE-2-1-/blob/main/Midterm%20Exam.ipynb\" target=\"_parent\"><img src=\"https://colab.research.google.com/assets/colab-badge.svg\" alt=\"Open In Colab\"/></a>"
      ]
    },
    {
      "cell_type": "markdown",
      "metadata": {
        "id": "9AjdnRFm7f5y"
      },
      "source": [
        "Midterm Exam"
      ]
    },
    {
      "cell_type": "markdown",
      "metadata": {
        "id": "OpPYrw1O7wjj"
      },
      "source": [
        "PROBLEM STATEMENT 1."
      ]
    },
    {
      "cell_type": "code",
      "metadata": {
        "colab": {
          "base_uri": "https://localhost:8080/"
        },
        "id": "N79Ngq7K71he",
        "outputId": "382289b7-ba26-40aa-d8ae-b39c3dbbb377"
      },
      "source": [
        "a=(\"Name: John Carlo A. Reyes\")\n",
        "b=(\"Student Number: 202012943\")\n",
        "c=(\"Age: 19\")\n",
        "d=(\"Birthday: May 15, 2002\")\n",
        "e=(\"Address: #020 Brgy. San Jose, Calamba City, Laguna\")\n",
        "f=(\"Course: BSECE\")\n",
        "g=(\"Last Sem GWA: 1.92\")\n",
        "print (a)\n",
        "print (b)\n",
        "print (c)\n",
        "print (d)\n",
        "print (e)\n",
        "print (f)\n",
        "print (g)"
      ],
      "execution_count": 30,
      "outputs": [
        {
          "output_type": "stream",
          "name": "stdout",
          "text": [
            "Name: John Carlo A. Reyes\n",
            "Student Number: 202012943\n",
            "Age: 19\n",
            "Birthday: May 15, 2002\n",
            "Address: #020 Brgy. San Jose, Calamba City, Laguna\n",
            "Course: BSECE\n",
            "Last Sem GWA: 1.92\n"
          ]
        }
      ]
    },
    {
      "cell_type": "markdown",
      "metadata": {
        "id": "2HSkJArr9wBc"
      },
      "source": [
        "PROBLEM STATEMENT 2."
      ]
    },
    {
      "cell_type": "code",
      "metadata": {
        "colab": {
          "base_uri": "https://localhost:8080/"
        },
        "id": "OstJKRb9955H",
        "outputId": "ea2c019c-60be-41ae-bf65-f49f38a24bdc"
      },
      "source": [
        "n=4\n",
        "answ=\"Y\"\n",
        "\n",
        "print(bool(2<n) and (n<6)) \n",
        "print(bool(2<n) and (n==6))\n",
        "print(bool(not(2<n)or(n==6)))\n",
        "print(bool(not(n<6)))\n",
        "print(bool(answ==\"Y\")or(answ==\"y\"))\n",
        "print(bool(answ==\"Y\")and(answ==\"y\"))\n",
        "print(bool(not(answ==\"y\")))\n",
        "print(bool(2<n)and(n==5+1))or(answ==\"No\")\n",
        "print(bool(n==2))and(n==7)or(answ==\"Y\")\n",
        "print(bool(n==2))and((n==7)or(answ==\"Y\"))\n",
        "\n"
      ],
      "execution_count": 29,
      "outputs": [
        {
          "output_type": "stream",
          "name": "stdout",
          "text": [
            "True\n",
            "False\n",
            "False\n",
            "False\n",
            "True\n",
            "False\n",
            "True\n",
            "False\n",
            "False\n",
            "False\n"
          ]
        }
      ]
    },
    {
      "cell_type": "markdown",
      "metadata": {
        "id": "aU9MKnorALRv"
      },
      "source": [
        "PROBLEM STATEMENT 3."
      ]
    },
    {
      "cell_type": "code",
      "metadata": {
        "colab": {
          "base_uri": "https://localhost:8080/"
        },
        "id": "YYSvLQm3AOeo",
        "outputId": "56c9a102-790c-4cb6-c476-0c1551412079"
      },
      "source": [
        "x=2\n",
        "y=-3\n",
        "w=7\n",
        "z=-10\n",
        "\n",
        "print(x/y)\n",
        "print(w/y/x)\n",
        "print(z/y%x)\n",
        "print(x%-y*w)\n",
        "print(x%y)\n",
        "print(z%w-y/x*5+5)\n",
        "print(9-x%(2+y))\n",
        "print(z//w)\n",
        "print((2+y)**2)\n",
        "print((w/x)*2)"
      ],
      "execution_count": 5,
      "outputs": [
        {
          "output_type": "stream",
          "name": "stdout",
          "text": [
            "-0.6666666666666666\n",
            "-1.1666666666666667\n",
            "1.3333333333333335\n",
            "14\n",
            "-1\n",
            "16.5\n",
            "9\n",
            "-2\n",
            "1\n",
            "7.0\n"
          ]
        }
      ]
    }
  ]
}